{
 "cells": [
  {
   "cell_type": "code",
   "execution_count": 125,
   "metadata": {
    "collapsed": true
   },
   "outputs": [],
   "source": [
    "# LSTM for 1 dim air passengers prediction(time sequence)"
   ]
  },
  {
   "cell_type": "code",
   "execution_count": 105,
   "metadata": {
    "collapsed": true
   },
   "outputs": [],
   "source": [
    "import numpy as np\n",
    "import matplotlib.pyplot as plt\n",
    "from pandas import read_csv\n",
    "import math\n"
   ]
  },
  {
   "cell_type": "code",
   "execution_count": 106,
   "metadata": {
    "collapsed": false
   },
   "outputs": [],
   "source": [
    "from keras.models import Sequential\n",
    "from keras.layers import Dense\n",
    "from keras.layers import LSTM\n",
    "from sklearn.preprocessing import MinMaxScaler # used for preprocessing data like normalize/sclale/StandardScaler...\n",
    "from sklearn.metrics import mean_squared_error\n",
    "%matplotlib inline"
   ]
  },
  {
   "cell_type": "code",
   "execution_count": 107,
   "metadata": {
    "collapsed": false
   },
   "outputs": [],
   "source": [
    "dataframe = read_csv('international-airline-passengers.csv',usecols=[1],engine='python',skipfooter=3)\n",
    "dataset = dataframe.values.astype('float32')\n"
   ]
  },
  {
   "cell_type": "markdown",
   "metadata": {},
   "source": [
    "data resource\n",
    "\n",
    "https://datamarket.com/data/set/22u3/international-airline-passengers-monthly-totals-in-thousands-jan-49-dec-60#!ds=22u3&display=line\n",
    "    "
   ]
  },
  {
   "cell_type": "markdown",
   "metadata": {},
   "source": [
    "[some knowledge about pandas readdata funciton]\n",
    "\n",
    "API:详解 pandas.read_csv\n",
    "\n",
    "https://blog.csdn.net/weixin_39175124/article/details/79434022"
   ]
  },
  {
   "cell_type": "code",
   "execution_count": 108,
   "metadata": {
    "collapsed": false
   },
   "outputs": [
    {
     "data": {
      "image/png": "[encoded data removed]",
      "text/plain": [
       "<matplotlib.figure.Figure at 0x7f900b371518>"
      ]
     },
     "metadata": {},
     "output_type": "display_data"
    }
   ],
   "source": [
    "plt.plot(dataset)\n",
    "plt.show()"
   ]
  },
  {
   "cell_type": "code",
   "execution_count": 109,
   "metadata": {
    "collapsed": false
   },
   "outputs": [],
   "source": [
    "# a function for prepocessing data into ifeature(X) and label(Y) \n",
    "def create_dataset(dataset,look_back=1):\n",
    "    dataX = []\n",
    "    dataY = []\n",
    "    for i in range(len(dataset)-look_back-1):\n",
    "        dataX.append(dataset[i:(i+look_back),0])\n",
    "        dataY.append(dataset[(i+look_back),0])\n",
    "    return np.array(dataX),np.array(dataY)\n",
    "\n"
   ]
  },
  {
   "cell_type": "code",
   "execution_count": 110,
   "metadata": {
    "collapsed": false
   },
   "outputs": [],
   "source": [
    "# normalize the dataset\n",
    "scaler = MinMaxScaler(feature_range = (0,1))\n",
    "dataset = scaler.fit_transform(dataset)"
   ]
  },
  {
   "cell_type": "markdown",
   "metadata": {
    "collapsed": true
   },
   "source": [
    "there is some knowledge about normarlizing!!\n",
    "\n",
    "机器学习基础与实践（二）----数据转换\n",
    "\n",
    "------------------------------------本博客所有内容以学习、研究和分享为主，如需转载，请联系本人，标明作者和出处，并且是非商业用途，谢谢！--------------------------------\n",
    "\n",
    "https://www.cnblogs.com/charlotte77/p/5622325.html"
   ]
  },
  {
   "cell_type": "code",
   "execution_count": 111,
   "metadata": {
    "collapsed": false
   },
   "outputs": [],
   "source": [
    "# split into train and test\n",
    "train_size = int(len(dataset)*0.67)\n",
    "test_size = len(dataset)-train_size\n",
    "train = dataset[:train_size,:]\n",
    "test = dataset[train_size:,:]\n"
   ]
  },
  {
   "cell_type": "code",
   "execution_count": 127,
   "metadata": {
    "collapsed": false
   },
   "outputs": [
    {
     "data": {
      "text/plain": [
       "array([0.04826255, 0.03281853, 0.05984557, 0.08494207], dtype=float32)"
      ]
     },
     "execution_count": 127,
     "metadata": {},
     "output_type": "execute_result"
    }
   ],
   "source": [
    "# use the function to get input feature and label dataset\n",
    "look_back= 3\n",
    "trainX,trainY = create_dataset(train,look_back)\n",
    "testX,testY = create_dataset(test,look_back)\n",
    "trainY[:4]"
   ]
  },
  {
   "cell_type": "markdown",
   "metadata": {},
   "source": [
    "在所有的RNN中，包括simpleRNN, LSTM, GRU等等，输入输出数据格式如下：\n",
    "\n",
    "Input: [samples, time steps, features]\n",
    "\n",
    "Output:[samples, output_dim]\n",
    "\n",
    "(if return_sequences=True)[smples,timesteps,output_dim]\n",
    "\n",
    "\n",
    " 输入是一个三维向量。samples即为数据的条数。难以理解的是timesteps 和input_dim. Input_dim是数据的表示形式的维度，timestep则为总的时间步数。例如这样一个数据，总共100条句子，每个句子20个词，每个词都由一个80维的向量表示。在RNN中，每一个timestep的输入是一个词（当然这不一定，你也可以调成两个词或者其他），从第一张RNN的图来看，t0时刻是第一个时间步，x0则为代表一条句子中第一个词的80维向量，t1是第二个时间步，x1表示句子中第二个词的80维向量。。。所以，输入数据的大小应当是（100, 20, 80） "
   ]
  },
  {
   "cell_type": "code",
   "execution_count": 132,
   "metadata": {
    "collapsed": false
   },
   "outputs": [],
   "source": [
    "#投入到 LSTM 的 X 需要有这样的结构： [samples, time steps, features]，所以做一下变换\n",
    "# LSTM should have input like this [samples, time steps, features]\n",
    "trainX = np.reshape(trainX,(trainX.shape[0],look_back,1))\n",
    "testX = np.reshape(testX,(testX.shape[0],look_back,1))"
   ]
  },
  {
   "cell_type": "markdown",
   "metadata": {},
   "source": [
    "keras：4)LSTM函数详解\n",
    "\n",
    "https://blog.csdn.net/jiangpeng59/article/details/77646186\n",
    "\n",
    "   keras中文文档: http://keras-cn.readthedocs.io/en/latest/layers/recurrent_layer/  (中文文档真的做的很赞，除了翻译的内容，还加了额外的内容，例如tensor, batch size的概念帮助DL新手理解\n",
    "   \n",
    "   https://www.zybuluo.com/hanbingtao/note/581764\n",
    "   \n",
    "   零基础入门深度学习(6) - 长短时记忆网络(LSTM)"
   ]
  },
  {
   "cell_type": "code",
   "execution_count": 134,
   "metadata": {
    "collapsed": false
   },
   "outputs": [
    {
     "name": "stdout",
     "output_type": "stream",
     "text": [
      "Epoch 1/100\n",
      "92/92 [==============================] - 2s 17ms/step - loss: 0.0090\n",
      "Epoch 2/100\n",
      "92/92 [==============================] - 0s 4ms/step - loss: 0.0055\n",
      "Epoch 3/100\n",
      "92/92 [==============================] - 0s 4ms/step - loss: 0.0046\n",
      "Epoch 4/100\n",
      "92/92 [==============================] - 0s 5ms/step - loss: 0.0042\n",
      "Epoch 5/100\n",
      "92/92 [==============================] - 0s 5ms/step - loss: 0.0039\n",
      "Epoch 6/100\n",
      "92/92 [==============================] - 0s 5ms/step - loss: 0.0035\n",
      "Epoch 7/100\n",
      "92/92 [==============================] - 1s 6ms/step - loss: 0.0035\n",
      "Epoch 8/100\n",
      "92/92 [==============================] - 0s 5ms/step - loss: 0.0034\n",
      "Epoch 9/100\n",
      "92/92 [==============================] - 0s 5ms/step - loss: 0.0033\n",
      "Epoch 10/100\n",
      "92/92 [==============================] - 0s 5ms/step - loss: 0.0036\n",
      "Epoch 11/100\n",
      "92/92 [==============================] - 0s 5ms/step - loss: 0.0033\n",
      "Epoch 12/100\n",
      "92/92 [==============================] - 1s 6ms/step - loss: 0.0033\n",
      "Epoch 13/100\n",
      "92/92 [==============================] - 0s 5ms/step - loss: 0.0030\n",
      "Epoch 14/100\n",
      "92/92 [==============================] - 0s 5ms/step - loss: 0.0034\n",
      "Epoch 15/100\n",
      "92/92 [==============================] - 1s 6ms/step - loss: 0.0032\n",
      "Epoch 16/100\n",
      "92/92 [==============================] - 1s 6ms/step - loss: 0.0032\n",
      "Epoch 17/100\n",
      "92/92 [==============================] - 0s 5ms/step - loss: 0.0034\n",
      "Epoch 18/100\n",
      "92/92 [==============================] - 0s 5ms/step - loss: 0.0031\n",
      "Epoch 19/100\n",
      "92/92 [==============================] - 0s 5ms/step - loss: 0.0031\n",
      "Epoch 20/100\n",
      "92/92 [==============================] - 0s 5ms/step - loss: 0.0032\n",
      "Epoch 21/100\n",
      "92/92 [==============================] - 1s 5ms/step - loss: 0.0032\n",
      "Epoch 22/100\n",
      "92/92 [==============================] - 0s 5ms/step - loss: 0.0032\n",
      "Epoch 23/100\n",
      "92/92 [==============================] - 1s 6ms/step - loss: 0.0032\n",
      "Epoch 24/100\n",
      "92/92 [==============================] - 0s 5ms/step - loss: 0.0032\n",
      "Epoch 25/100\n",
      "92/92 [==============================] - 1s 6ms/step - loss: 0.0031\n",
      "Epoch 26/100\n",
      "92/92 [==============================] - 1s 6ms/step - loss: 0.0031\n",
      "Epoch 27/100\n",
      "92/92 [==============================] - 1s 6ms/step - loss: 0.0031\n",
      "Epoch 28/100\n",
      "92/92 [==============================] - 1s 6ms/step - loss: 0.0031\n",
      "Epoch 29/100\n",
      "92/92 [==============================] - 1s 6ms/step - loss: 0.0030\n",
      "Epoch 30/100\n",
      "92/92 [==============================] - 0s 5ms/step - loss: 0.0032\n",
      "Epoch 31/100\n",
      "92/92 [==============================] - 1s 5ms/step - loss: 0.0030\n",
      "Epoch 32/100\n",
      "92/92 [==============================] - 0s 5ms/step - loss: 0.0030\n",
      "Epoch 33/100\n",
      "92/92 [==============================] - 0s 5ms/step - loss: 0.0032\n",
      "Epoch 34/100\n",
      "92/92 [==============================] - 1s 6ms/step - loss: 0.0031\n",
      "Epoch 35/100\n",
      "92/92 [==============================] - 1s 6ms/step - loss: 0.0030\n",
      "Epoch 36/100\n",
      "92/92 [==============================] - 0s 5ms/step - loss: 0.0028\n",
      "Epoch 37/100\n",
      "92/92 [==============================] - 0s 5ms/step - loss: 0.0031\n",
      "Epoch 38/100\n",
      "92/92 [==============================] - 0s 5ms/step - loss: 0.0029\n",
      "Epoch 39/100\n",
      "92/92 [==============================] - 1s 5ms/step - loss: 0.0029\n",
      "Epoch 40/100\n",
      "92/92 [==============================] - 1s 7ms/step - loss: 0.0030\n",
      "Epoch 41/100\n",
      "92/92 [==============================] - 1s 6ms/step - loss: 0.0028\n",
      "Epoch 42/100\n",
      "92/92 [==============================] - 0s 5ms/step - loss: 0.0029\n",
      "Epoch 43/100\n",
      "92/92 [==============================] - 0s 5ms/step - loss: 0.0029\n",
      "Epoch 44/100\n",
      "92/92 [==============================] - 0s 5ms/step - loss: 0.0030\n",
      "Epoch 45/100\n",
      "92/92 [==============================] - 1s 6ms/step - loss: 0.0028\n",
      "Epoch 46/100\n",
      "92/92 [==============================] - 1s 6ms/step - loss: 0.0028\n",
      "Epoch 47/100\n",
      "92/92 [==============================] - 1s 6ms/step - loss: 0.0029\n",
      "Epoch 48/100\n",
      "92/92 [==============================] - 1s 5ms/step - loss: 0.0028\n",
      "Epoch 49/100\n",
      "92/92 [==============================] - 0s 5ms/step - loss: 0.0028\n",
      "Epoch 50/100\n",
      "92/92 [==============================] - 1s 5ms/step - loss: 0.0028\n",
      "Epoch 51/100\n",
      "92/92 [==============================] - 1s 6ms/step - loss: 0.0027\n",
      "Epoch 52/100\n",
      "92/92 [==============================] - 1s 6ms/step - loss: 0.0027\n",
      "Epoch 53/100\n",
      "92/92 [==============================] - 1s 6ms/step - loss: 0.0028\n",
      "Epoch 54/100\n",
      "92/92 [==============================] - 1s 6ms/step - loss: 0.0027\n",
      "Epoch 55/100\n",
      "92/92 [==============================] - 1s 7ms/step - loss: 0.0027\n",
      "Epoch 56/100\n",
      "92/92 [==============================] - 1s 6ms/step - loss: 0.0027\n",
      "Epoch 57/100\n",
      "92/92 [==============================] - 1s 7ms/step - loss: 0.0026\n",
      "Epoch 58/100\n",
      "92/92 [==============================] - 1s 7ms/step - loss: 0.0026\n",
      "Epoch 59/100\n",
      "92/92 [==============================] - 1s 7ms/step - loss: 0.0026\n",
      "Epoch 60/100\n",
      "92/92 [==============================] - 1s 7ms/step - loss: 0.0027\n",
      "Epoch 61/100\n",
      "92/92 [==============================] - 1s 6ms/step - loss: 0.0026\n",
      "Epoch 62/100\n",
      "92/92 [==============================] - 0s 5ms/step - loss: 0.0026\n",
      "Epoch 63/100\n",
      "92/92 [==============================] - 0s 5ms/step - loss: 0.0027\n",
      "Epoch 64/100\n",
      "92/92 [==============================] - 0s 5ms/step - loss: 0.0025\n",
      "Epoch 65/100\n",
      "92/92 [==============================] - 1s 6ms/step - loss: 0.0026\n",
      "Epoch 66/100\n",
      "92/92 [==============================] - 0s 5ms/step - loss: 0.0025\n",
      "Epoch 67/100\n",
      "92/92 [==============================] - 0s 5ms/step - loss: 0.0025\n",
      "Epoch 68/100\n",
      "92/92 [==============================] - 0s 5ms/step - loss: 0.0024\n",
      "Epoch 69/100\n",
      "92/92 [==============================] - 1s 6ms/step - loss: 0.0024\n",
      "Epoch 70/100\n",
      "92/92 [==============================] - 1s 6ms/step - loss: 0.0025\n",
      "Epoch 71/100\n",
      "92/92 [==============================] - 1s 7ms/step - loss: 0.0024\n",
      "Epoch 72/100\n",
      "92/92 [==============================] - 1s 7ms/step - loss: 0.0024\n",
      "Epoch 73/100\n",
      "92/92 [==============================] - 1s 9ms/step - loss: 0.0025\n",
      "Epoch 74/100\n",
      "92/92 [==============================] - 1s 9ms/step - loss: 0.0024\n",
      "Epoch 75/100\n",
      "92/92 [==============================] - 1s 10ms/step - loss: 0.0025\n",
      "Epoch 76/100\n",
      "92/92 [==============================] - 1s 8ms/step - loss: 0.0024\n",
      "Epoch 77/100\n",
      "92/92 [==============================] - 1s 5ms/step - loss: 0.0024\n",
      "Epoch 78/100\n",
      "92/92 [==============================] - 1s 7ms/step - loss: 0.0023\n",
      "Epoch 79/100\n",
      "92/92 [==============================] - 0s 5ms/step - loss: 0.0023\n",
      "Epoch 80/100\n",
      "92/92 [==============================] - 0s 5ms/step - loss: 0.0023\n",
      "Epoch 81/100\n",
      "92/92 [==============================] - 1s 6ms/step - loss: 0.0023\n",
      "Epoch 82/100\n",
      "92/92 [==============================] - 0s 5ms/step - loss: 0.0023\n",
      "Epoch 83/100\n",
      "92/92 [==============================] - 1s 7ms/step - loss: 0.0022\n",
      "Epoch 84/100\n",
      "92/92 [==============================] - 1s 6ms/step - loss: 0.0022\n",
      "Epoch 85/100\n",
      "92/92 [==============================] - 1s 6ms/step - loss: 0.0023\n",
      "Epoch 86/100\n",
      "92/92 [==============================] - 1s 6ms/step - loss: 0.0022\n",
      "Epoch 87/100\n",
      "92/92 [==============================] - 1s 6ms/step - loss: 0.0022\n",
      "Epoch 88/100\n",
      "92/92 [==============================] - 1s 6ms/step - loss: 0.0022\n",
      "Epoch 89/100\n",
      "92/92 [==============================] - 1s 6ms/step - loss: 0.0021\n",
      "Epoch 90/100\n",
      "92/92 [==============================] - 1s 6ms/step - loss: 0.0022\n",
      "Epoch 91/100\n",
      "92/92 [==============================] - 0s 5ms/step - loss: 0.0021\n",
      "Epoch 92/100\n",
      "92/92 [==============================] - 0s 5ms/step - loss: 0.0022\n",
      "Epoch 93/100\n",
      "92/92 [==============================] - 1s 5ms/step - loss: 0.0020\n",
      "Epoch 94/100\n",
      "92/92 [==============================] - 1s 6ms/step - loss: 0.0020\n",
      "Epoch 95/100\n",
      "92/92 [==============================] - 0s 5ms/step - loss: 0.0020\n",
      "Epoch 96/100\n",
      "92/92 [==============================] - 1s 6ms/step - loss: 0.0020\n",
      "Epoch 97/100\n",
      "92/92 [==============================] - 0s 5ms/step - loss: 0.0020\n",
      "Epoch 98/100\n",
      "92/92 [==============================] - 0s 5ms/step - loss: 0.0020\n",
      "Epoch 99/100\n",
      "92/92 [==============================] - 0s 5ms/step - loss: 0.0020\n",
      "Epoch 100/100\n",
      "92/92 [==============================] - 1s 7ms/step - loss: 0.0019\n"
     ]
    },
    {
     "data": {
      "text/plain": [
       "<keras.callbacks.History at 0x7f900a657588>"
      ]
     },
     "execution_count": 134,
     "metadata": {},
     "output_type": "execute_result"
    }
   ],
   "source": [
    "# create and fit LSTM network\n",
    "model = Sequential()\n",
    "model.add(LSTM(4,input_shape = (look_back,1)))\n",
    "model.add(Dense(1))\n",
    "model.compile(loss='mean_squared_error',optimizer='adam')\n",
    "model.fit(trainX,trainY,epochs=100,batch_size=1,verbose=1)"
   ]
  },
  {
   "cell_type": "code",
   "execution_count": 135,
   "metadata": {
    "collapsed": true
   },
   "outputs": [],
   "source": [
    "# make predictions\n",
    "trainPredict = model.predict(trainX)\n",
    "testPredict = model.predict(testX)"
   ]
  },
  {
   "cell_type": "code",
   "execution_count": 136,
   "metadata": {
    "collapsed": true
   },
   "outputs": [],
   "source": [
    "# invert prediction into same unit \n",
    "# scaler.inverse_transform(scaler.transform(X))#将标准化后的数据转换成原来的数据\n",
    "\n",
    "trainPredict = scaler.inverse_transform(trainPredict)\n",
    "trainY = scaler.inverse_transform([trainY])\n",
    "testPredict = scaler.inverse_transform(testPredict)\n",
    "testY = scaler.inverse_transform([testY])"
   ]
  },
  {
   "cell_type": "code",
   "execution_count": 137,
   "metadata": {
    "collapsed": false
   },
   "outputs": [
    {
     "name": "stdout",
     "output_type": "stream",
     "text": [
      "Train score:22.33 RMSE\n"
     ]
    }
   ],
   "source": [
    "trainScore = math.sqrt(mean_squared_error(trainY[0],trainPredict[:,0]))\n",
    "print('Train score:%.2f RMSE' %(trainScore))"
   ]
  },
  {
   "cell_type": "code",
   "execution_count": 138,
   "metadata": {
    "collapsed": false
   },
   "outputs": [
    {
     "name": "stdout",
     "output_type": "stream",
     "text": [
      "Train score:49.95 RMSE\n"
     ]
    }
   ],
   "source": [
    "testScore = math.sqrt(mean_squared_error(testY[0],testPredict[:,0]))\n",
    "print('Train score:%.2f RMSE' %(testScore))"
   ]
  },
  {
   "cell_type": "code",
   "execution_count": 139,
   "metadata": {
    "collapsed": false
   },
   "outputs": [
    {
     "data": {
      "image/png": "[encoded data removed]",
      "text/plain": [
       "<matplotlib.figure.Figure at 0x7f9009c3e198>"
      ]
     },
     "metadata": {},
     "output_type": "display_data"
    }
   ],
   "source": [
    "# plot\n",
    "\n",
    "trainPredictPlot = np.empty_like(dataset)\n",
    "trainPredictPlot[:,:] = np.nan\n",
    "trainPredictPlot[look_back:len(trainPredict)+look_back,:] = trainPredict\n",
    "\n",
    "testPredictPlot =np.empty_like(dataset)\n",
    "testPredictPlot[:,:] =np.nan\n",
    "testPredictPlot[len(trainPredict)+look_back*2+1:len(dataset)-1,:] = testPredict\n",
    "\n",
    "plt.plot(scaler.inverse_transform(dataset))\n",
    "plt.plot(trainPredictPlot)\n",
    "plt.plot(testPredictPlot)\n",
    "plt.show()"
   ]
  },
  {
   "cell_type": "markdown",
   "metadata": {},
   "source": [
    "MARK ATTENTION!\n",
    "\n",
    "it is different from the original code in input dimention!!!!!!! I think there is something wrong with the original code\n",
    "\n",
    "oriiginal intruduction is \n",
    "\n",
    "用 LSTM 做时间序列预测的一个小例子(Chinese)\n",
    "\n",
    "https://www.jianshu.com/p/38df71cad1f6\n",
    "    \n",
    "    \n",
    "English\n",
    "\n",
    "https://blog.csdn.net/u010412858/article/details/76153000\n",
    "\n",
    "Time Series Prediction With Deep Learning in Keras\n",
    "\n",
    "https://machinelearningmastery.com/time-series-prediction-with-deep-learning-in-python-with-keras/\n"
   ]
  },
  {
   "cell_type": "code",
   "execution_count": null,
   "metadata": {
    "collapsed": true
   },
   "outputs": [],
   "source": []
  }
 ],
 "metadata": {
  "anaconda-cloud": {},
  "kernelspec": {
   "display_name": "Python [conda root]",
   "language": "python",
   "name": "conda-root-py"
  },
  "language_info": {
   "codemirror_mode": {
    "name": "ipython",
    "version": 3
   },
   "file_extension": ".py",
   "mimetype": "text/x-python",
   "name": "python",
   "nbconvert_exporter": "python",
   "pygments_lexer": "ipython3",
   "version": "3.5.2"
  }
 },
 "nbformat": 4,
 "nbformat_minor": 1
}
